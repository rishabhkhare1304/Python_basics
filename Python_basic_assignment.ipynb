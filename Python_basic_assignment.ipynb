{
  "nbformat": 4,
  "nbformat_minor": 0,
  "metadata": {
    "colab": {
      "provenance": []
    },
    "kernelspec": {
      "name": "python3",
      "display_name": "Python 3"
    },
    "language_info": {
      "name": "python"
    }
  },
  "cells": [
    {
      "cell_type": "markdown",
      "source": [
        "#Theoritical Question\n"
      ],
      "metadata": {
        "id": "sE51z_f-EnR-"
      }
    },
    {
      "cell_type": "markdown",
      "source": [
        "1. What is Python, and why is it popular?\n",
        "   - Python is a high-level, interpreted programming language known for its simplicity and readability. It’s popular because it has:\n",
        "\n",
        "     Easy-to-learn syntax (like plain English)\n",
        "\n",
        "     A large standard library\n",
        "\n",
        "     Community support\n",
        "\n",
        "     Versatility (used in web development, AI, data science, automation, etc.)\n",
        "\n",
        "\n",
        "\n",
        "---\n",
        "\n",
        "2. What is an interpreter in Python?\n",
        "   - The interpreter is the program that reads and executes Python code line by line. It translates Python code into machine code so the computer can understand it.\n",
        "\n",
        "\n",
        "---\n",
        "\n",
        "3. What are pre-defined keywords in Python?\n",
        "   - Keywords are reserved words in Python that have special meanings (e.g., if, else, for, while, def, class). They cannot be used as variable names.\n",
        "\n",
        "\n",
        "---\n",
        "\n",
        "4. Can keywords be used as variable names?\n",
        "   - No Keywords are reserved by Python for specific purposes. For example, you cannot do for = 10 because for is a keyword.\n",
        "\n",
        "\n",
        "---\n",
        "\n",
        "5. What is mutability in Python?\n",
        "   - Mutability refers to whether an object’s value can be changed after it is created.\n",
        "\n",
        "     Mutable objects: can be changed (e.g., lists, dictionaries, sets).\n",
        "\n",
        "     Immutable objects: cannot be changed (e.g., tuples, strings, integers).\n",
        "\n",
        "\n",
        "\n",
        "---\n",
        "\n",
        "6. Why are lists mutable, but tuples are immutable?\n",
        "\n",
        "     - Lists are designed to store dynamic collections where elements can be added, removed, or modified.\n",
        "\n",
        "        Tuples are designed for fixed collections, ensuring data safety and consistency.\n",
        "\n",
        "\n",
        "\n",
        "---\n",
        "\n",
        "7. What is the difference between == and is operators in Python?\n",
        "\n",
        "   - == → checks if the values of two objects are equal.\n",
        "\n",
        "      is → checks if two objects refer to the same memory location.\n",
        "\n",
        "\n",
        "\n",
        "---\n",
        "\n",
        "8. What are logical operators in Python?\n",
        "    - Logical operators are used to combine conditions:\n",
        "\n",
        "      and → True if both conditions are true.\n",
        "\n",
        "      or → True if at least one condition is true.\n",
        "\n",
        "      not → Reverses the result (True → False, False → True).\n",
        "\n",
        "\n",
        "\n",
        "---\n",
        "\n",
        "9. What is type casting in Python?\n",
        "   - Type casting means converting one data type into another.\n",
        "\n",
        "     Example:\n",
        "\n",
        "     x = \"10\"\n",
        "     y = int(x)  # explicit casting\n",
        "\n",
        "\n",
        "---\n",
        "\n",
        "10. What is the difference between implicit and explicit type casting?\n",
        "\n",
        "    - Implicit (Type Conversion): Done automatically by Python when safe.\n",
        "      Example: 3 + 2.5 → 5.5 (int → float automatically).\n",
        "\n",
        "      Explicit (Type Casting): Done manually by the programmer using functions like int(), float(), str().\n",
        "\n",
        "\n",
        "\n",
        "---\n",
        "\n",
        "11. What is the purpose of conditional statements in Python?\n",
        "    - Conditional statements (if, elif, else) allow the program to make decisions based on conditions and execute code accordingly.\n",
        "\n",
        "\n",
        "---\n",
        "\n",
        "12. How does the elif statement work?\n",
        "    - elif (else if) lets you check multiple conditions. If the first condition is false, Python checks the next one, and so on.\n",
        "\n",
        "      Example:\n",
        "\n",
        "      x = 10\n",
        "      if x > 15:\n",
        "      print(\"Greater than 15\")\n",
        "      elif x == 10:\n",
        "      print(\"Equal to 10\")\n",
        "      else:\n",
        "      print(\"Smaller\")\n",
        "\n",
        "\n",
        "---\n",
        "\n",
        "13. What is the difference between for and while loops?\n",
        "\n",
        "    - for loop → used when the number of iterations is known (loops through a sequence).\n",
        "\n",
        "      while loop → used when the number of iterations is unknown and depends on a condition being true.\n",
        "\n",
        "\n",
        "\n",
        "---\n",
        "\n",
        "14. Describe a scenario where a while loop is more suitable than a for loop.\n",
        "    - Example: Asking a user for a correct password until they enter the right one:\n",
        "\n",
        "      password = \"\"\n",
        "      while password != \"1234\":\n",
        "      password = input(\"Enter password: \")\n",
        "      print(\"Access granted!\")\n",
        "\n",
        "      Here, we don’t know how many times the loop will run, so a while loop is more suitable.\n",
        "\n",
        "\n",
        "---\n",
        "\n"
      ],
      "metadata": {
        "id": "YhJSk-40FSLa"
      }
    },
    {
      "cell_type": "markdown",
      "source": [
        "# Practical Question"
      ],
      "metadata": {
        "id": "5GMahr03SEbE"
      }
    },
    {
      "cell_type": "code",
      "source": [
        "#1. Write a Python program to print \"hello,world!\"\n",
        "\n",
        "print(\"hello,world!\")"
      ],
      "metadata": {
        "colab": {
          "base_uri": "https://localhost:8080/"
        },
        "id": "sTNhhPXHRswe",
        "outputId": "365ef47a-ed00-4c8c-f8a9-1d979b63103a"
      },
      "execution_count": 9,
      "outputs": [
        {
          "output_type": "stream",
          "name": "stdout",
          "text": [
            "hello,world!\n"
          ]
        }
      ]
    },
    {
      "cell_type": "code",
      "source": [
        "#2. Write a Python program that displays your name and age.\n",
        "\n",
        "name = \"Rishabh khare\"\n",
        "age = 21\n",
        "print(name)\n",
        "print(age)"
      ],
      "metadata": {
        "colab": {
          "base_uri": "https://localhost:8080/"
        },
        "id": "C1KWr7RLTn4O",
        "outputId": "39162305-ec3b-4d71-90a2-f17c5095ce48"
      },
      "execution_count": 12,
      "outputs": [
        {
          "output_type": "stream",
          "name": "stdout",
          "text": [
            "Rishabh khare\n",
            "21\n"
          ]
        }
      ]
    },
    {
      "cell_type": "code",
      "source": [
        "#3. Write code to print all the pre-defined keywords in Python using the keyword liberary.\n",
        "\n",
        "print(help(\"keywords\"))"
      ],
      "metadata": {
        "colab": {
          "base_uri": "https://localhost:8080/"
        },
        "id": "bKVCzArDVz6g",
        "outputId": "ad28965c-b3cc-418b-b9e4-20caf05c0d44"
      },
      "execution_count": 14,
      "outputs": [
        {
          "output_type": "stream",
          "name": "stdout",
          "text": [
            "\n",
            "Here is a list of the Python keywords.  Enter any keyword to get more help.\n",
            "\n",
            "False               class               from                or\n",
            "None                continue            global              pass\n",
            "True                def                 if                  raise\n",
            "and                 del                 import              return\n",
            "as                  elif                in                  try\n",
            "assert              else                is                  while\n",
            "async               except              lambda              with\n",
            "await               finally             nonlocal            yield\n",
            "break               for                 not                 \n",
            "\n",
            "None\n"
          ]
        }
      ]
    },
    {
      "cell_type": "code",
      "source": [
        "#4. Write a program that checks if a given word is a Python keyword.\n",
        "\n",
        "word = input(\"Enter a word: \")\n",
        "if keyword.iskeyword(word):\n",
        "    print(f\"'{word}' is a Python keyword.\")\n",
        "else:\n",
        "    print(f\"'{word}' is NOT a Python keyword.\")"
      ],
      "metadata": {
        "colab": {
          "base_uri": "https://localhost:8080/"
        },
        "id": "F53NTZJsms1O",
        "outputId": "1b8f31f0-ed0b-4ccb-dc17-78cdca10632d"
      },
      "execution_count": 28,
      "outputs": [
        {
          "output_type": "stream",
          "name": "stdout",
          "text": [
            "Enter a word: for\n",
            "'for' is a Python keyword.\n"
          ]
        }
      ]
    },
    {
      "cell_type": "code",
      "source": [
        "#5. Create a list and tuple in Python, and demonstrate how attempting to change an element works differently for each.\n",
        "\n",
        "# List (mutable)\n",
        "my_list = [1, 2, 3]\n",
        "my_list[0] = 100\n",
        "print(\"Modified list:\", my_list)\n",
        "\n",
        "# Tuple (immutable)\n",
        "my_tuple = (1, 2, 3)\n",
        "try:\n",
        "    my_tuple[0] = 100\n",
        "except TypeError:\n",
        "    print(\"Error: Tuples are immutable!\")"
      ],
      "metadata": {
        "colab": {
          "base_uri": "https://localhost:8080/"
        },
        "id": "01EsiAnenTwM",
        "outputId": "bb1977fd-778f-4cfb-d5ad-4f62d3854325"
      },
      "execution_count": 31,
      "outputs": [
        {
          "output_type": "stream",
          "name": "stdout",
          "text": [
            "Modified list: [100, 2, 3]\n",
            "Error: Tuples are immutable!\n"
          ]
        }
      ]
    },
    {
      "cell_type": "code",
      "source": [
        "#6. Write a function to demonstrate the behavior of mutable and immutable arguments.\n",
        "\n",
        "def modify_list(lst):\n",
        "    lst.append(100)  # modifies the same list\n",
        "\n",
        "def modify_number(num):\n",
        "    num += 10  # creates a new number\n",
        "    return num\n",
        "\n",
        "my_list = [1, 2, 3]\n",
        "modify_list(my_list)\n",
        "print(\"List after function call:\", my_list)\n",
        "\n",
        "number = 5\n",
        "new_number = modify_number(number)\n",
        "print(\"Number after function call:\", number)\n",
        "print(\"Returned number:\", new_number)"
      ],
      "metadata": {
        "colab": {
          "base_uri": "https://localhost:8080/"
        },
        "id": "ugDflqzCqRHQ",
        "outputId": "97ea4b59-bed3-4230-d278-8189bffd0301"
      },
      "execution_count": 34,
      "outputs": [
        {
          "output_type": "stream",
          "name": "stdout",
          "text": [
            "List after function call: [1, 2, 3, 100]\n",
            "Number after function call: 5\n",
            "Returned number: 15\n"
          ]
        }
      ]
    },
    {
      "cell_type": "code",
      "source": [
        "#7. Write a program that performs basic arithmetic operations on two user-input numbers.\n",
        "\n",
        "a = int(input(\"Enter first number: \"))\n",
        "b = int(input(\"Enter second number: \"))\n",
        "\n",
        "print(\"Addition:\", a + b)\n",
        "print(\"Subtraction:\", a - b)\n",
        "print(\"Multiplication:\", a * b)\n",
        "print(\"Division:\", a / b if b != 0 else \"Undefined\")"
      ],
      "metadata": {
        "colab": {
          "base_uri": "https://localhost:8080/"
        },
        "id": "KZbaafAbs3Dn",
        "outputId": "b37af462-e7c9-4d90-b09a-dd9a67c824f9"
      },
      "execution_count": 35,
      "outputs": [
        {
          "output_type": "stream",
          "name": "stdout",
          "text": [
            "Enter first number: 5\n",
            "Enter second number: 9\n",
            "Addition: 14\n",
            "Subtraction: -4\n",
            "Multiplication: 45\n",
            "Division: 0.5555555555555556\n"
          ]
        }
      ]
    },
    {
      "cell_type": "code",
      "source": [
        "#8. Write a program to demonstrate the use of logical operators.\n",
        "\n",
        "x = 10\n",
        "y = 20\n",
        "\n",
        "print(\"x > 5 and y > 15:\", x > 5 and y > 15)\n",
        "print(\"x < 5 or y > 15:\", x < 5 or y > 15)\n",
        "print(\"not(x > y):\", not(x > y))"
      ],
      "metadata": {
        "colab": {
          "base_uri": "https://localhost:8080/"
        },
        "id": "VyCZlIystxQb",
        "outputId": "17fe5869-2dbe-465b-ebea-a427fc50e101"
      },
      "execution_count": 36,
      "outputs": [
        {
          "output_type": "stream",
          "name": "stdout",
          "text": [
            "x > 5 and y > 15: True\n",
            "x < 5 or y > 15: True\n",
            "not(x > y): True\n"
          ]
        }
      ]
    },
    {
      "cell_type": "code",
      "source": [
        "#9. Write a Python program to convert user input from string to integer, float, and boolean types.\n",
        "\n",
        "value = input(\"Enter a value: \")\n",
        "\n",
        "print(\"As integer:\", int(value))\n",
        "print(\"As float:\", float(value))\n",
        "print(\"As boolean:\", bool(value))"
      ],
      "metadata": {
        "colab": {
          "base_uri": "https://localhost:8080/"
        },
        "id": "JeRLHhPLuWtS",
        "outputId": "203f18b2-67bd-425b-8e50-999c507e42e4"
      },
      "execution_count": 37,
      "outputs": [
        {
          "output_type": "stream",
          "name": "stdout",
          "text": [
            "Enter a value: 67\n",
            "As integer: 67\n",
            "As float: 67.0\n",
            "As boolean: True\n"
          ]
        }
      ]
    },
    {
      "cell_type": "code",
      "source": [
        "#10. Write code to demonstrate type casting with list elements.\n",
        "\n",
        "numbers = [\"1\", \"2\", \"3\", \"4\"]   # list of strings\n",
        "int_numbers = [int(num) for num in numbers]  # convert to integers\n",
        "\n",
        "print(\"Original list (strings):\", numbers)\n",
        "print(\"Converted to integers:\", int_numbers)"
      ],
      "metadata": {
        "colab": {
          "base_uri": "https://localhost:8080/"
        },
        "id": "TriGDRvUuri_",
        "outputId": "6d4b49c6-c746-4048-f92f-dce5f6fe3976"
      },
      "execution_count": 38,
      "outputs": [
        {
          "output_type": "stream",
          "name": "stdout",
          "text": [
            "Original list (strings): ['1', '2', '3', '4']\n",
            "Converted to integers: [1, 2, 3, 4]\n"
          ]
        }
      ]
    },
    {
      "cell_type": "code",
      "source": [
        "#11. Write a program that checks if a number is positive, negative, or zero.\n",
        "\n",
        "num = int(input(\"Enter a number: \"))\n",
        "\n",
        "if num > 0:\n",
        "    print(\"Positive\")\n",
        "elif num < 0:\n",
        "    print(\"Negative\")\n",
        "else:\n",
        "    print(\"Zero\")\n"
      ],
      "metadata": {
        "colab": {
          "base_uri": "https://localhost:8080/"
        },
        "id": "HFxbaJzfvSzE",
        "outputId": "a505bd89-0f3e-4010-df60-485bc52a7475"
      },
      "execution_count": 42,
      "outputs": [
        {
          "output_type": "stream",
          "name": "stdout",
          "text": [
            "Enter a number: 3\n",
            "Positive\n"
          ]
        }
      ]
    },
    {
      "cell_type": "code",
      "source": [
        "#12. Write a for loop to print numbers from 1 to 10.\n",
        "\n",
        "for i in range(1, 11):\n",
        "    print(i)"
      ],
      "metadata": {
        "colab": {
          "base_uri": "https://localhost:8080/"
        },
        "id": "Rp0w3c-hvk5g",
        "outputId": "b696bef1-f0c5-4038-a115-ca12a2e19bb5"
      },
      "execution_count": 43,
      "outputs": [
        {
          "output_type": "stream",
          "name": "stdout",
          "text": [
            "1\n",
            "2\n",
            "3\n",
            "4\n",
            "5\n",
            "6\n",
            "7\n",
            "8\n",
            "9\n",
            "10\n"
          ]
        }
      ]
    },
    {
      "cell_type": "code",
      "source": [
        "#13. Write a Python program to find the sum of all even numbers between 1 and 50.\n",
        "\n",
        "total = 0\n",
        "for i in range(2, 51, 2):\n",
        "    total += i\n",
        "print(\"Sum of even numbers from 1 to 50:\", total)"
      ],
      "metadata": {
        "colab": {
          "base_uri": "https://localhost:8080/"
        },
        "id": "tI5QzcWAwIMY",
        "outputId": "31406be6-2e68-4d90-9fc7-fe10c2e06c18"
      },
      "execution_count": 44,
      "outputs": [
        {
          "output_type": "stream",
          "name": "stdout",
          "text": [
            "Sum of even numbers from 1 to 50: 650\n"
          ]
        }
      ]
    },
    {
      "cell_type": "code",
      "source": [
        "#14. Write a program to reverse a string using a while loop.\n",
        "\n",
        "\n",
        "text = input(\"Enter a string: \")\n",
        "reversed_text = \"\"\n",
        "\n",
        "i = len(text) - 1\n",
        "while i >= 0:\n",
        "    reversed_text += text[i]\n",
        "    i -= 1\n",
        "\n",
        "print(\"Reversed string:\", reversed_text)"
      ],
      "metadata": {
        "colab": {
          "base_uri": "https://localhost:8080/"
        },
        "id": "EPZxZWh7wX-j",
        "outputId": "c6af69d6-07d1-44ca-8265-b8a28a4cb1f0"
      },
      "execution_count": 45,
      "outputs": [
        {
          "output_type": "stream",
          "name": "stdout",
          "text": [
            "Enter a string: tree\n",
            "Reversed string: eert\n"
          ]
        }
      ]
    },
    {
      "cell_type": "code",
      "source": [
        "#15. Write a Python program to calculate the factorial of a number provided by the user using a while loop.\n",
        "\n",
        "num = int(input(\"Enter a number: \"))\n",
        "factorial = 1\n",
        "i = 1\n",
        "\n",
        "while i <= num:\n",
        "    factorial *= i\n",
        "    i += 1\n",
        "\n",
        "print(\"Factorial:\", factorial)"
      ],
      "metadata": {
        "colab": {
          "base_uri": "https://localhost:8080/"
        },
        "id": "DDxq8Q7MxQvN",
        "outputId": "346b2567-4e77-4ae5-f922-a1e0dc52bab1"
      },
      "execution_count": 47,
      "outputs": [
        {
          "output_type": "stream",
          "name": "stdout",
          "text": [
            "Enter a number: 3\n",
            "Factorial: 6\n"
          ]
        }
      ]
    }
  ]
}